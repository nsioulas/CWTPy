{
 "cells": [
  {
   "cell_type": "code",
   "execution_count": 1,
   "id": "221c7cf3-43cf-4378-b443-2bd598852b49",
   "metadata": {
    "scrolled": true
   },
   "outputs": [
    {
     "name": "stdout",
     "output_type": "stream",
     "text": [
      "Requirement already satisfied: pybind11 in /opt/homebrew/anaconda3/envs/numba/lib/python3.10/site-packages (2.13.6)\n"
     ]
    }
   ],
   "source": [
    "import sys\n",
    "!{sys.executable} -m pip install pybind11\n"
   ]
  },
  {
   "cell_type": "code",
   "execution_count": 1,
   "id": "cb249883-f4f2-4fb7-b653-5d5b4556572b",
   "metadata": {},
   "outputs": [
    {
     "name": "stdout",
     "output_type": "stream",
     "text": [
      "running build_ext\n",
      "building 'cwt_module' extension\n",
      "clang++ -Wno-unused-result -Wsign-compare -Wunreachable-code -DNDEBUG -fwrapv -O2 -Wall -fPIC -O2 -isystem /opt/homebrew/anaconda3/envs/numba/include -arch arm64 -fPIC -O2 -isystem /opt/homebrew/anaconda3/envs/numba/include -arch arm64 -I/opt/homebrew/anaconda3/envs/numba/lib/python3.10/site-packages/pybind11/include -I/opt/homebrew/include -I/opt/homebrew/anaconda3/envs/numba/include/python3.10 -c cwt_module.cpp -o build/temp.macosx-11.1-arm64-cpython-310/cwt_module.o -O3 -std=c++11\n",
      "clang++ -Wno-unused-result -Wsign-compare -Wunreachable-code -DNDEBUG -fwrapv -O2 -Wall -fPIC -O2 -isystem /opt/homebrew/anaconda3/envs/numba/include -arch arm64 -fPIC -O2 -isystem /opt/homebrew/anaconda3/envs/numba/include -arch arm64 -bundle -undefined dynamic_lookup build/temp.macosx-11.1-arm64-cpython-310/cwt_module.o -L/opt/homebrew/lib -lfftw3 -o build/lib.macosx-11.1-arm64-cpython-310/cwt_module.cpython-310-darwin.so\n",
      "copying build/lib.macosx-11.1-arm64-cpython-310/cwt_module.cpython-310-darwin.so -> \n"
     ]
    }
   ],
   "source": [
    "!python setup.py build_ext --inplace\n"
   ]
  },
  {
   "cell_type": "code",
   "execution_count": 8,
   "id": "1bb5e3c2-91cb-4d59-80d1-712e418c43c6",
   "metadata": {},
   "outputs": [
    {
     "name": "stdout",
     "output_type": "stream",
     "text": [
      "/Users/turbulator/work/MHDTurbPy/pyspedas/pyspedas/__init__.py\n"
     ]
    }
   ],
   "source": [
    "%load_ext autoreload\n",
    "%autoreload 2\n",
    "\n",
    "\n",
    "\n",
    "# Basic libraries\n",
    "import pandas as pd\n",
    "import numpy as np\n",
    "import sys\n",
    "\n",
    "\n",
    "\n",
    "# Scipy\n",
    "import scipy\n",
    "from scipy import signal\n",
    "from scipy.linalg import solve\n",
    "from scipy import constants\n",
    "from scipy.interpolate import interp1d\n",
    "from scipy.fft import fft, fftfreq\n",
    "\n",
    "# Locate files\n",
    "import os\n",
    "from pathlib import Path\n",
    "from glob import glob\n",
    "\n",
    "# Plots\n",
    "from matplotlib import pyplot as plt\n",
    "\n",
    "#Important!! Make sure your current directory is the MHDTurbPy folder!\n",
    "os.chdir(\"/Users/turbulator/work/MHDTurbPy\")\n",
    "\n",
    "\n",
    "# Make sure to use the local spedas\n",
    "sys.path.insert(0, os.path.join(os.getcwd(), 'pyspedas'))\n",
    "import pyspedas\n",
    "from pyspedas.utilities import time_string\n",
    "from pytplot import get_data\n",
    "from joblib import Parallel, delayed\n",
    "\n",
    "\"\"\" Import manual functions \"\"\"\n",
    "\n",
    "sys.path.insert(1, os.path.join(os.getcwd(), 'functions'))\n",
    "import calc_diagnostics as calc\n",
    "import TurbPy as turb\n",
    "import general_functions as func\n",
    "import Figures as figs\n",
    "\n",
    "from   SEA import SEA\n",
    "import three_D_funcs as threeD\n",
    "import download_data as download\n",
    "\n",
    "sys.path.insert(1, os.path.join(os.getcwd(), 'functions/3d_anis_analysis_toolboox'))\n",
    "import collect_wave_coeffs \n",
    "import data_analysis \n",
    "\n",
    "\n",
    "\n",
    "os.environ[\"CDF_LIB\"] = \"/Applications/cdf/cdf/lib\""
   ]
  },
  {
   "cell_type": "code",
   "execution_count": 12,
   "id": "459b6b59-ed99-475f-aa6b-97e895d92c42",
   "metadata": {},
   "outputs": [],
   "source": [
    "import numpy as np\n",
    "import pandas as pd\n",
    "import cwt_module  # your compiled module with cwt_morlet_full\n",
    "\n",
    "def estimate_cwt_cpp(signal,\n",
    "                     dt,\n",
    "                     nv       = 16,\n",
    "                     omega0   = 6.0,\n",
    "                     min_freq = None,\n",
    "                     max_freq = None,\n",
    "                     use_omp  = False):\n",
    "    \"\"\"\n",
    "    Estimate the CWT of the given signal using cwt_module.cwt_morlet_full,\n",
    "    which computes an L2-normalized Morlet transform over a user-defined \n",
    "    frequency band [min_freq, max_freq]. The wrapper:\n",
    "      - Accepts a 1D numpy array or a pandas DataFrame (column-wise).\n",
    "      - Optionally removes the first few scales (defaults to 5) to mimic\n",
    "        the \"drop first five\" logic from your original code.\n",
    "      - Returns wavelet coefficients (W), the final scales, and the final freqs.\n",
    "    \n",
    "    Parameters\n",
    "    ----------\n",
    "    signal : np.ndarray or pd.DataFrame\n",
    "        Input time-series data. If a DataFrame, each column is treated as separate.\n",
    "    dt : float\n",
    "        Sampling interval.\n",
    "    nv : int\n",
    "        Number of voices per octave (default 16).\n",
    "    omega0 : float\n",
    "        Morlet wavelet parameter (default=6).\n",
    "    min_freq : float or None\n",
    "        If set, the lowest frequency of interest. If None, the C++ code picks ~1/(N*dt).\n",
    "    max_freq : float or None\n",
    "        Highest frequency of interest. If None, defaults to Nyquist (fs/2).\n",
    "    use_omp : bool\n",
    "        If True, parallelize over scales using OpenMP (must compile with -fopenmp).\n",
    "\n",
    "    Returns\n",
    "    -------\n",
    "    w_out, scales_out, freqs_out, None\n",
    "        - w_out: if `signal` is a DataFrame, a dict of 2D arrays {col: W}; \n",
    "                 otherwise a single 2D array of shape (#scales, #time_points).\n",
    "        - scales_out: 1D array of scales'.\n",
    "        - freqs_out:  1D array of frequencies'.\n",
    "        - None: placeholder for the cone of influence (not computed).\n",
    "    \n",
    "    Notes\n",
    "    -----\n",
    "    1. The wavelet coefficients are complex, shape (#scales, N).\n",
    "    2. The scale-to-frequency relation uses eqn(12) in your reference:\n",
    "         freq = (omega0 / (2π s)) * (1 + 1/(2 ω0^2))\n",
    "    3. On macOS + Clang, to enable OpenMP you typically need to install\n",
    "       llvm via Homebrew and compile with extra flags like:\n",
    "         -Xpreprocessor -fopenmp -lomp\n",
    "       On Linux or Windows (gcc, MSVC), -fopenmp or /openmp is usually enough.\n",
    "    \"\"\"\n",
    "    # Convert Python None -> 0.0 so cwt_morlet_full uses its internal defaults\n",
    "    if min_freq is None:\n",
    "        min_freq = 0.0\n",
    "    if max_freq is None:\n",
    "        max_freq = 0.0\n",
    "\n",
    "    def _process_1d(sig_1d):\n",
    "        # Convert to float64\n",
    "        sig_1d = np.asarray(sig_1d, dtype=np.float64)\n",
    "\n",
    "        # Call the C++ function: returns (W, scales, freqs)\n",
    "        W, scales, freqs = cwt_module.cwt_morlet_full(\n",
    "            sig_1d,\n",
    "            float(dt),\n",
    "            int(nv),\n",
    "            float(omega0),\n",
    "            float(min_freq),\n",
    "            float(max_freq),\n",
    "            bool(use_omp)\n",
    "        )\n",
    "        \n",
    "\n",
    "\n",
    "        return W, scales, freqs\n",
    "\n",
    "    if isinstance(signal, pd.DataFrame):\n",
    "        w_dict = {}\n",
    "        out_scales, out_freqs = None, None\n",
    "        for col in signal.columns:\n",
    "            W_col, scales_col, freqs_col = _process_1d(signal[col].values)\n",
    "            w_dict[col] = W_col\n",
    "            out_scales, out_freqs = scales_col, freqs_col\n",
    "        return w_dict, out_scales, out_freqs, None\n",
    "    else:\n",
    "        W, scales_out, freqs_out = _process_1d(signal)\n",
    "        return W, scales_out, freqs_out, None\n"
   ]
  },
  {
   "cell_type": "code",
   "execution_count": 13,
   "id": "a66b6c2d-d45e-4223-9eac-0f84141a8fba",
   "metadata": {},
   "outputs": [
    {
     "name": "stdout",
     "output_type": "stream",
     "text": [
      "/Users/turbulator/work/test_hel_bar/WIND/data/fast_alfvenic/*/coh_analysis/coh_step_10s_window_900s_method_Woodham_no_va.pkl\n",
      "217\n"
     ]
    }
   ],
   "source": [
    "lp = '/Users/turbulator/work/test_hel_bar/WIND/data/fast_alfvenic/'\n",
    "fn = 'coh_step_10s_window_900s_method_Woodham_no_va.pkl'\n",
    "fnames = func.load_files(lp, fn,  'coh_analysis')\n",
    "print(len(fnames))\n",
    "NN  = 1\n",
    "\n",
    "r   = pd.read_pickle(fnames[NN])\n",
    "fin = pd.read_pickle(fnames[NN].replace('coh_analysis/'+fn, 'final.pkl'))\n",
    "gen = pd.read_pickle(fnames[NN].replace('coh_analysis/'+fn, 'general.pkl'))\n",
    "pg  = pd.read_pickle(fnames[NN].replace('coh_analysis/'+fn, 'par_gaps.pkl'))"
   ]
  },
  {
   "cell_type": "code",
   "execution_count": 14,
   "id": "9ba77c82-3557-4a6c-8d49-e2189c951303",
   "metadata": {},
   "outputs": [],
   "source": [
    "MM   = 400000\n",
    "\n",
    "Bdf = fin['Mag']['B_resampled'][['Br', 'Bt', 'Bn']]\n",
    "\n",
    "res =  estimate_cwt_cpp(Bdf[0:MM],\n",
    "                        func.find_cadence(Bdf),\n",
    "                      \n",
    "                         nv           = 16,\n",
    "                         omega0       = 6.0,\n",
    "                         min_freq     = 1e-3,\n",
    "                         max_freq     = None,\n",
    "                         use_omp      = False,#   = True\n",
    "                       \n",
    "                       )"
   ]
  },
  {
   "cell_type": "code",
   "execution_count": 15,
   "id": "7b67f80f-1351-4018-95c1-3ba0f40c60e2",
   "metadata": {},
   "outputs": [],
   "source": [
    "r2 = turb.TracePSD(Bdf['Br'].values[0:MM],\n",
    "                   Bdf['Bt'].values[0:MM], \n",
    "                   Bdf['Bn'].values[0:MM], func.find_cadence(Bdf))"
   ]
  },
  {
   "cell_type": "code",
   "execution_count": 16,
   "id": "6b54f931-e69b-4cd7-966d-ccc52e012242",
   "metadata": {},
   "outputs": [],
   "source": [
    "dt = func.find_cadence(Bdf)"
   ]
  },
  {
   "cell_type": "code",
   "execution_count": 17,
   "id": "6783f29a-a7e2-43b1-b6c3-e73e10c95998",
   "metadata": {},
   "outputs": [],
   "source": [
    "C      = 1.06\n",
    "T      = len(Bdf[0:MM])*dt\n",
    "w0     = 6\n",
    "\n",
    "factor = (4.0 * np.pi ) / (C * w0 * T)/2"
   ]
  },
  {
   "cell_type": "code",
   "execution_count": 20,
   "id": "8c20a575-4cb2-4002-b18d-2044f4e4d340",
   "metadata": {},
   "outputs": [
    {
     "data": {
      "text/plain": [
       "[<matplotlib.lines.Line2D at 0x3751a86a0>]"
      ]
     },
     "execution_count": 20,
     "metadata": {},
     "output_type": "execute_result"
    },
    {
     "data": {
      "image/png": "[encoded data removed]",
      "text/plain": [
       "<Figure size 640x480 with 1 Axes>"
      ]
     },
     "metadata": {},
     "output_type": "display_data"
    }
   ],
   "source": [
    "\n",
    "\n",
    "plt.loglog(sm[0], sm[1] )\n",
    "\n",
    "Br = np.abs(np.nansum(res[0]['Br']* np.conjugate(res[0]['Br']), axis=1)) \n",
    "Bt = np.abs(np.nansum(res[0]['Bt']* np.conjugate(res[0]['Bt']), axis=1))\n",
    "Bn = np.abs(np.nansum(res[0]['Bn']* np.conjugate(res[0]['Bn']), axis=1))\n",
    "plt.loglog(res[2], factor*(Br + Bt + Bn), ls='--')"
   ]
  },
  {
   "cell_type": "code",
   "execution_count": 19,
   "id": "0469f7af-0410-4a0e-ba76-ce48d4e06ad2",
   "metadata": {},
   "outputs": [],
   "source": [
    "sm = func.smoothing_function(r2[0], r2[1])"
   ]
  },
  {
   "cell_type": "code",
   "execution_count": null,
   "id": "6680a163-eb96-4e77-a66a-4a07023035c3",
   "metadata": {},
   "outputs": [],
   "source": [
    "import time\n",
    "\n",
    "# Define dataset size\n",
    "MM = 800000\n",
    "\n",
    "# Load input data\n",
    "Bdf = fin['Mag']['B_resampled'][['Br', 'Bt', 'Bn']]\n",
    "cadence = func.find_cadence(Bdf)  # Compute dt from your function\n",
    "\n",
    "# Ensure we're working with a numpy array\n",
    "Bdf_subset = Bdf.iloc[0:MM]  # Take the first MM rows\n",
    "\n",
    "# Timing OpenMP enabled version\n",
    "start_omp = time.perf_counter()\n",
    "res_omp = estimate_cwt_cpp(Bdf_subset, cadence, nv=16, omega0=6.0, \n",
    "                           min_freq=1e-3, max_freq=None, use_parallel=True)\n",
    "end_omp = time.perf_counter()\n",
    "time_omp = end_omp - start_omp\n",
    "\n",
    "# Timing Non-OpenMP version\n",
    "start_no_omp = time.perf_counter()\n",
    "res_no_omp = estimate_cwt_cpp(Bdf_subset, cadence, nv=16, omega0=6.0, \n",
    "                              min_freq=1e-3, max_freq=None, use_parallel=False)\n",
    "end_no_omp = time.perf_counter()\n",
    "time_no_omp = end_no_omp - start_no_omp\n",
    "\n",
    "# Print Results\n",
    "print(f\"\\nOpenMP Enabled Execution Time  : {time_omp:.4f} sec\")\n",
    "print(f\"Non-OpenMP Execution Time      : {time_no_omp:.4f} sec\")\n",
    "speedup = time_no_omp / time_omp if time_omp > 0 else float('inf')\n",
    "print(f\"Speedup from OpenMP            : {speedup:.2f}x\")\n"
   ]
  },
  {
   "cell_type": "code",
   "execution_count": 19,
   "id": "6dd41fac-bce0-4c75-a4cf-3a522a31996c",
   "metadata": {},
   "outputs": [
    {
     "name": "stdout",
     "output_type": "stream",
     "text": [
      "\n",
      "OpenMP Enabled Execution Time  : 11.9682 sec\n",
      "Non-OpenMP Execution Time      : 5.9848 sec\n",
      "Speedup from OpenMP            : 0.50x\n"
     ]
    }
   ],
   "source": [
    "import time\n",
    "\n",
    "# Define dataset size\n",
    "MM = 800000\n",
    "\n",
    "# Load input data\n",
    "Bdf = fin['Mag']['B_resampled'][['Br', 'Bt', 'Bn']]\n",
    "cadence = func.find_cadence(Bdf)  # Compute dt from your function\n",
    "\n",
    "# Ensure we're working with a numpy array\n",
    "Bdf_subset = Bdf.iloc[0:MM]  # Take the first MM rows\n",
    "\n",
    "# Timing OpenMP enabled version\n",
    "start_omp = time.perf_counter()\n",
    "res_omp = estimate_cwt_cpp(Bdf_subset, cadence, nv=32, omega0=6.0, \n",
    "                           min_freq=1e-3, max_freq=None, use_omp=True)\n",
    "end_omp = time.perf_counter()\n",
    "time_omp = end_omp - start_omp\n",
    "\n",
    "# Timing Non-OpenMP version\n",
    "start_no_omp = time.perf_counter()\n",
    "res_no_omp = estimate_cwt_cpp(Bdf_subset, cadence, nv=16, omega0=6.0, \n",
    "                              min_freq=1e-3, max_freq=None, use_omp=False)\n",
    "end_no_omp = time.perf_counter()\n",
    "time_no_omp = end_no_omp - start_no_omp\n",
    "\n",
    "# Print Results\n",
    "print(f\"\\nOpenMP Enabled Execution Time  : {time_omp:.4f} sec\")\n",
    "print(f\"Non-OpenMP Execution Time      : {time_no_omp:.4f} sec\")\n",
    "speedup = time_no_omp / time_omp if time_omp > 0 else float('inf')\n",
    "print(f\"Speedup from OpenMP            : {speedup:.2f}x\")\n"
   ]
  },
  {
   "cell_type": "code",
   "execution_count": null,
   "id": "45ff9d4d-182b-4daa-9c23-b99d90a07a83",
   "metadata": {},
   "outputs": [],
   "source": []
  }
 ],
 "metadata": {
  "kernelspec": {
   "display_name": "Python 3 (ipykernel)",
   "language": "python",
   "name": "python3"
  },
  "language_info": {
   "codemirror_mode": {
    "name": "ipython",
    "version": 3
   },
   "file_extension": ".py",
   "mimetype": "text/x-python",
   "name": "python",
   "nbconvert_exporter": "python",
   "pygments_lexer": "ipython3",
   "version": "3.10.16"
  }
 },
 "nbformat": 4,
 "nbformat_minor": 5
}
