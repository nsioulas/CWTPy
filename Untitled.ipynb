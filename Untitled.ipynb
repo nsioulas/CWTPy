{
 "cells": [
  {
   "cell_type": "code",
   "execution_count": 4,
   "id": "f5fc7ef5-7db8-4d9b-bb86-179385ac5c75",
   "metadata": {},
   "outputs": [
    {
     "ename": "KeyboardInterrupt",
     "evalue": "",
     "output_type": "error",
     "traceback": [
      "\u001b[0;31m---------------------------------------------------------------------------\u001b[0m",
      "\u001b[0;31mKeyboardInterrupt\u001b[0m                         Traceback (most recent call last)",
      "File \u001b[0;32m/opt/homebrew/anaconda3/envs/numba/lib/python3.10/site-packages/IPython/core/async_helpers.py:128\u001b[0m, in \u001b[0;36m_pseudo_sync_runner\u001b[0;34m(coro)\u001b[0m\n\u001b[1;32m    120\u001b[0m \u001b[38;5;250m\u001b[39m\u001b[38;5;124;03m\"\"\"\u001b[39;00m\n\u001b[1;32m    121\u001b[0m \u001b[38;5;124;03mA runner that does not really allow async execution, and just advance the coroutine.\u001b[39;00m\n\u001b[1;32m    122\u001b[0m \n\u001b[0;32m   (...)\u001b[0m\n\u001b[1;32m    125\u001b[0m \u001b[38;5;124;03mCredit to Nathaniel Smith\u001b[39;00m\n\u001b[1;32m    126\u001b[0m \u001b[38;5;124;03m\"\"\"\u001b[39;00m\n\u001b[1;32m    127\u001b[0m \u001b[38;5;28;01mtry\u001b[39;00m:\n\u001b[0;32m--> 128\u001b[0m     \u001b[43mcoro\u001b[49m\u001b[38;5;241;43m.\u001b[39;49m\u001b[43msend\u001b[49m\u001b[43m(\u001b[49m\u001b[38;5;28;43;01mNone\u001b[39;49;00m\u001b[43m)\u001b[49m\n\u001b[1;32m    129\u001b[0m \u001b[38;5;28;01mexcept\u001b[39;00m \u001b[38;5;167;01mStopIteration\u001b[39;00m \u001b[38;5;28;01mas\u001b[39;00m exc:\n\u001b[1;32m    130\u001b[0m     \u001b[38;5;28;01mreturn\u001b[39;00m exc\u001b[38;5;241m.\u001b[39mvalue\n",
      "File \u001b[0;32m/opt/homebrew/anaconda3/envs/numba/lib/python3.10/site-packages/IPython/core/interactiveshell.py:3284\u001b[0m, in \u001b[0;36mInteractiveShell.run_cell_async\u001b[0;34m(self, raw_cell, store_history, silent, shell_futures, transformed_cell, preprocessing_exc_tuple, cell_id)\u001b[0m\n\u001b[1;32m   3282\u001b[0m \u001b[38;5;28;01mif\u001b[39;00m store_history:\n\u001b[1;32m   3283\u001b[0m     \u001b[38;5;28;01massert\u001b[39;00m \u001b[38;5;28mself\u001b[39m\u001b[38;5;241m.\u001b[39mhistory_manager \u001b[38;5;129;01mis\u001b[39;00m \u001b[38;5;129;01mnot\u001b[39;00m \u001b[38;5;28;01mNone\u001b[39;00m\n\u001b[0;32m-> 3284\u001b[0m     \u001b[38;5;28;43mself\u001b[39;49m\u001b[38;5;241;43m.\u001b[39;49m\u001b[43mhistory_manager\u001b[49m\u001b[38;5;241;43m.\u001b[39;49m\u001b[43mstore_inputs\u001b[49m\u001b[43m(\u001b[49m\u001b[38;5;28;43mself\u001b[39;49m\u001b[38;5;241;43m.\u001b[39;49m\u001b[43mexecution_count\u001b[49m\u001b[43m,\u001b[49m\u001b[43m \u001b[49m\u001b[43mcell\u001b[49m\u001b[43m,\u001b[49m\u001b[43m \u001b[49m\u001b[43mraw_cell\u001b[49m\u001b[43m)\u001b[49m\n\u001b[1;32m   3285\u001b[0m \u001b[38;5;28;01mif\u001b[39;00m \u001b[38;5;129;01mnot\u001b[39;00m silent:\n\u001b[1;32m   3286\u001b[0m     \u001b[38;5;28mself\u001b[39m\u001b[38;5;241m.\u001b[39mlogger\u001b[38;5;241m.\u001b[39mlog(cell, raw_cell)\n",
      "File \u001b[0;32m/opt/homebrew/anaconda3/envs/numba/lib/python3.10/site-packages/IPython/core/history.py:792\u001b[0m, in \u001b[0;36mHistoryManager.store_inputs\u001b[0;34m(self, line_num, source, source_raw)\u001b[0m\n\u001b[1;32m    789\u001b[0m \u001b[38;5;28mself\u001b[39m\u001b[38;5;241m.\u001b[39minput_hist_parsed\u001b[38;5;241m.\u001b[39mappend(source)\n\u001b[1;32m    790\u001b[0m \u001b[38;5;28mself\u001b[39m\u001b[38;5;241m.\u001b[39minput_hist_raw\u001b[38;5;241m.\u001b[39mappend(source_raw)\n\u001b[0;32m--> 792\u001b[0m \u001b[38;5;28;01mwith\u001b[39;00m \u001b[38;5;28mself\u001b[39m\u001b[38;5;241m.\u001b[39mdb_input_cache_lock:\n\u001b[1;32m    793\u001b[0m     \u001b[38;5;28mself\u001b[39m\u001b[38;5;241m.\u001b[39mdb_input_cache\u001b[38;5;241m.\u001b[39mappend((line_num, source, source_raw))\n\u001b[1;32m    794\u001b[0m     \u001b[38;5;66;03m# Trigger to flush cache and write to DB.\u001b[39;00m\n",
      "\u001b[0;31mKeyboardInterrupt\u001b[0m: "
     ]
    },
    {
     "name": "stdout",
     "output_type": "stream",
     "text": [
      "The history saving thread hit an unexpected error (OperationalError('database is locked')).History will not be written to the database.\n"
     ]
    }
   ],
   "source": [
    "import numpy as np\n",
    "import time\n",
    "\n",
    "# Import our custom CWT (CWTPy)\n",
    "from CWTPy import cwt_module\n",
    "\n",
    "# Import ssqueezepy for comparison (if installed)\n",
    "import ssqueezepy\n",
    "\n",
    "# Parameters for the test signal and transform\n",
    "fs = 1000.0         # Sampling frequency (Hz)\n",
    "dt = 1.0 / fs       # Sampling interval\n",
    "N = 4096            # Number of samples\n",
    "t = np.linspace(0, (N-1)*dt, N)\n",
    "\n",
    "# Create a test signal (sine wave with a 50 Hz component)\n",
    "signal = np.sin(2 * np.pi * 50 * t)\n",
    "\n",
    "# Parameters for the transforms\n",
    "nv = 32             # voices per octave\n",
    "omega0 = 6.0        # Morlet parameter\n",
    "min_freq = 10.0     # Minimum frequency (Hz)\n",
    "max_freq = 200.0    # Maximum frequency (Hz)\n",
    "use_omp = True      # Enable parallel processing in CWTPy\n",
    "\n",
    "# -------------------------\n",
    "# Time the CWTPy transform\n",
    "# -------------------------\n",
    "start_time = time.perf_counter()\n",
    "W_cwtypy, scales_cwtypy, freqs_cwtypy = cwt_module.cwt_morlet_full(\n",
    "    signal, dt, nv, omega0, min_freq, max_freq, use_omp\n",
    ")\n",
    "end_time = time.perf_counter()\n",
    "time_cwtypy = end_time - start_time\n",
    "\n",
    "print(\"CWTPy CWT:\")\n",
    "print(\"  Coefficients shape:\", W_cwtypy.shape)\n",
    "print(\"  Number of scales:\", len(scales_cwtypy))\n",
    "print(\"  Time taken: {:.4f} seconds\".format(time_cwtypy))\n",
    "\n",
    "# -------------------------\n",
    "# Time the ssqueezepy transform\n",
    "# -------------------------\n",
    "# ssqueezepy provides a high-level CWT function. Note: Its parameters differ.\n",
    "# Here we use a Morlet wavelet, with a logarithmic scale distribution.\n",
    "start_time = time.perf_counter()\n",
    "# This call returns: (W, scales)\n",
    "W_sq, scales_sq = ssqueezepy.cwt(signal, wavelet='morlet', scales='log-piecewise',\n",
    "                                 nv=nv, fs=fs, l1_norm=False)\n",
    "# Compute frequencies corresponding to scales using ssqueezepy helper.\n",
    "freqs_sq = ssqueezepy.experimental.scale_to_freq(scales_sq, ssqueezepy.Wavelet(('morlet', {'mu': omega0})), N, fs)\n",
    "end_time = time.perf_counter()\n",
    "time_sq = end_time - start_time\n",
    "\n",
    "print(\"\\nssqueezepy CWT:\")\n",
    "print(\"  Coefficients shape:\", W_sq.shape)\n",
    "print(\"  Number of scales:\", len(scales_sq))\n",
    "print(\"  Time taken: {:.4f} seconds\".format(time_sq))\n",
    "\n",
    "# -------------------------\n",
    "# Compare Results\n",
    "# -------------------------\n",
    "print(\"\\nPerformance Comparison:\")\n",
    "print(\"  CWTPy took {:.4f} seconds.\".format(time_cwtypy))\n",
    "print(\"  ssqueezepy took {:.4f} seconds.\".format(time_sq))\n"
   ]
  },
  {
   "cell_type": "code",
   "execution_count": 5,
   "id": "dc2c0652-336f-4334-819c-cddd1173fdee",
   "metadata": {},
   "outputs": [
    {
     "ename": "NameError",
     "evalue": "name 'a' is not defined",
     "output_type": "error",
     "traceback": [
      "\u001b[0;31m---------------------------------------------------------------------------\u001b[0m",
      "\u001b[0;31mNameError\u001b[0m                                 Traceback (most recent call last)",
      "Cell \u001b[0;32mIn[5], line 1\u001b[0m\n\u001b[0;32m----> 1\u001b[0m \u001b[43ma\u001b[49m\n",
      "\u001b[0;31mNameError\u001b[0m: name 'a' is not defined"
     ]
    }
   ],
   "source": [
    "a"
   ]
  },
  {
   "cell_type": "code",
   "execution_count": null,
   "id": "fd420bc1-fdeb-49cf-b5bd-800974a207ed",
   "metadata": {},
   "outputs": [],
   "source": []
  }
 ],
 "metadata": {
  "kernelspec": {
   "display_name": "Python 3 (ipykernel)",
   "language": "python",
   "name": "python3"
  },
  "language_info": {
   "codemirror_mode": {
    "name": "ipython",
    "version": 3
   },
   "file_extension": ".py",
   "mimetype": "text/x-python",
   "name": "python",
   "nbconvert_exporter": "python",
   "pygments_lexer": "ipython3",
   "version": "3.10.16"
  }
 },
 "nbformat": 4,
 "nbformat_minor": 5
}
