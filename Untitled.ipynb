{
 "cells": [
  {
   "cell_type": "code",
   "execution_count": 3,
   "id": "f5fc7ef5-7db8-4d9b-bb86-179385ac5c75",
   "metadata": {},
   "outputs": [
    {
     "ename": "ModuleNotFoundError",
     "evalue": "No module named 'CWTPy.cwt_module'",
     "output_type": "error",
     "traceback": [
      "\u001b[0;31m---------------------------------------------------------------------------\u001b[0m",
      "\u001b[0;31mModuleNotFoundError\u001b[0m                       Traceback (most recent call last)",
      "Cell \u001b[0;32mIn[3], line 5\u001b[0m\n\u001b[1;32m      2\u001b[0m \u001b[38;5;28;01mimport\u001b[39;00m\u001b[38;5;250m \u001b[39m\u001b[38;5;21;01mtime\u001b[39;00m\n\u001b[1;32m      4\u001b[0m \u001b[38;5;66;03m# Import our custom CWT (CWTPy)\u001b[39;00m\n\u001b[0;32m----> 5\u001b[0m \u001b[38;5;28;01mfrom\u001b[39;00m\u001b[38;5;250m \u001b[39m\u001b[38;5;21;01mCWTPy\u001b[39;00m\u001b[38;5;250m \u001b[39m\u001b[38;5;28;01mimport\u001b[39;00m cwt_module\n\u001b[1;32m      7\u001b[0m \u001b[38;5;66;03m# Import ssqueezepy for comparison (if installed)\u001b[39;00m\n\u001b[1;32m      8\u001b[0m \u001b[38;5;28;01mimport\u001b[39;00m\u001b[38;5;250m \u001b[39m\u001b[38;5;21;01mssqueezepy\u001b[39;00m\n",
      "File \u001b[0;32m~/work/CWTPy/CWTPy/__init__.py:5\u001b[0m\n\u001b[1;32m      1\u001b[0m \u001b[38;5;124;03m\"\"\"\u001b[39;00m\n\u001b[1;32m      2\u001b[0m \u001b[38;5;124;03mCWTPy - A fast continuous wavelet transform package.\u001b[39;00m\n\u001b[1;32m      3\u001b[0m \u001b[38;5;124;03m\"\"\"\u001b[39;00m\n\u001b[1;32m      4\u001b[0m __version__ \u001b[38;5;241m=\u001b[39m \u001b[38;5;124m\"\u001b[39m\u001b[38;5;124m0.1.3\u001b[39m\u001b[38;5;124m\"\u001b[39m\n\u001b[0;32m----> 5\u001b[0m \u001b[38;5;28;01mfrom\u001b[39;00m\u001b[38;5;250m \u001b[39m\u001b[38;5;21;01m.\u001b[39;00m\u001b[38;5;21;01mcwt_module\u001b[39;00m\u001b[38;5;250m \u001b[39m\u001b[38;5;28;01mimport\u001b[39;00m \u001b[38;5;241m*\u001b[39m\n",
      "\u001b[0;31mModuleNotFoundError\u001b[0m: No module named 'CWTPy.cwt_module'"
     ]
    }
   ],
   "source": [
    "import numpy as np\n",
    "import time\n",
    "\n",
    "# Import our custom CWT (CWTPy)\n",
    "from CWTPy import cwt_module\n",
    "\n",
    "# Import ssqueezepy for comparison (if installed)\n",
    "import ssqueezepy\n",
    "\n",
    "# Parameters for the test signal and transform\n",
    "fs = 1000.0         # Sampling frequency (Hz)\n",
    "dt = 1.0 / fs       # Sampling interval\n",
    "N = 4096            # Number of samples\n",
    "t = np.linspace(0, (N-1)*dt, N)\n",
    "\n",
    "# Create a test signal (sine wave with a 50 Hz component)\n",
    "signal = np.sin(2 * np.pi * 50 * t)\n",
    "\n",
    "# Parameters for the transforms\n",
    "nv = 32             # voices per octave\n",
    "omega0 = 6.0        # Morlet parameter\n",
    "min_freq = 10.0     # Minimum frequency (Hz)\n",
    "max_freq = 200.0    # Maximum frequency (Hz)\n",
    "use_omp = True      # Enable parallel processing in CWTPy\n",
    "\n",
    "# -------------------------\n",
    "# Time the CWTPy transform\n",
    "# -------------------------\n",
    "start_time = time.perf_counter()\n",
    "W_cwtypy, scales_cwtypy, freqs_cwtypy = cwt_module.cwt_morlet_full(\n",
    "    signal, dt, nv, omega0, min_freq, max_freq, use_omp\n",
    ")\n",
    "end_time = time.perf_counter()\n",
    "time_cwtypy = end_time - start_time\n",
    "\n",
    "print(\"CWTPy CWT:\")\n",
    "print(\"  Coefficients shape:\", W_cwtypy.shape)\n",
    "print(\"  Number of scales:\", len(scales_cwtypy))\n",
    "print(\"  Time taken: {:.4f} seconds\".format(time_cwtypy))\n",
    "\n",
    "# -------------------------\n",
    "# Time the ssqueezepy transform\n",
    "# -------------------------\n",
    "# ssqueezepy provides a high-level CWT function. Note: Its parameters differ.\n",
    "# Here we use a Morlet wavelet, with a logarithmic scale distribution.\n",
    "start_time = time.perf_counter()\n",
    "# This call returns: (W, scales)\n",
    "W_sq, scales_sq = ssqueezepy.cwt(signal, wavelet='morlet', scales='log-piecewise',\n",
    "                                 nv=nv, fs=fs, l1_norm=False)\n",
    "# Compute frequencies corresponding to scales using ssqueezepy helper.\n",
    "freqs_sq = ssqueezepy.experimental.scale_to_freq(scales_sq, ssqueezepy.Wavelet(('morlet', {'mu': omega0})), N, fs)\n",
    "end_time = time.perf_counter()\n",
    "time_sq = end_time - start_time\n",
    "\n",
    "print(\"\\nssqueezepy CWT:\")\n",
    "print(\"  Coefficients shape:\", W_sq.shape)\n",
    "print(\"  Number of scales:\", len(scales_sq))\n",
    "print(\"  Time taken: {:.4f} seconds\".format(time_sq))\n",
    "\n",
    "# -------------------------\n",
    "# Compare Results\n",
    "# -------------------------\n",
    "print(\"\\nPerformance Comparison:\")\n",
    "print(\"  CWTPy took {:.4f} seconds.\".format(time_cwtypy))\n",
    "print(\"  ssqueezepy took {:.4f} seconds.\".format(time_sq))\n"
   ]
  },
  {
   "cell_type": "code",
   "execution_count": null,
   "id": "dc2c0652-336f-4334-819c-cddd1173fdee",
   "metadata": {},
   "outputs": [],
   "source": []
  }
 ],
 "metadata": {
  "kernelspec": {
   "display_name": "Python 3 (ipykernel)",
   "language": "python",
   "name": "python3"
  },
  "language_info": {
   "codemirror_mode": {
    "name": "ipython",
    "version": 3
   },
   "file_extension": ".py",
   "mimetype": "text/x-python",
   "name": "python",
   "nbconvert_exporter": "python",
   "pygments_lexer": "ipython3",
   "version": "3.10.16"
  }
 },
 "nbformat": 4,
 "nbformat_minor": 5
}
